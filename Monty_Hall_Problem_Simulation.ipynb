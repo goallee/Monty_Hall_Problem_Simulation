{
 "cells": [
  {
   "cell_type": "markdown",
   "metadata": {},
   "source": [
    "#### Monty Hall problem\n",
    "\n",
    "This is a simulation of the Monty Hall problem (https://en.wikipedia.org/wiki/Monty_Hall_problem).  It is helpful to give a hands-on demonstration of the problem and the benefits of changing your position after you gain information.\n",
    "\n",
    "To run each cell, use Shift-Enter.  Enter your responses and see your results.\n"
   ]
  },
  {
   "cell_type": "code",
   "execution_count": 71,
   "metadata": {},
   "outputs": [
    {
     "name": "stdout",
     "output_type": "stream",
     "text": [
      "\n",
      "How many games would you like to play?  Please enter a number.  1000\n",
      "\n",
      "\n",
      "Great!  We will play 1000 games.\n",
      "\n",
      "\n"
     ]
    }
   ],
   "source": [
    "import numpy as np\n",
    "numOfHands = 10\n",
    "numOfHands = input(\"\\nHow many games would you like to play?  Please enter a number.  \")\n",
    "print(\"\\n\")\n",
    "try:\n",
    "    numOfHands = int(numOfHands)\n",
    "    if numOfHands > 0:\n",
    "        print( \"Great!  We will play\", numOfHands, \"games.\" )\n",
    "    else:\n",
    "        numOfHands = 5\n",
    "        print (\"That doesn't work.  Let's play five games.\")\n",
    "except:\n",
    "    print(\"That doesn't work.  Next time try a number.\")\n",
    "    print(\"We will play ten games.\")\n",
    "    numOfHands = 10\n",
    "print(\"\\n\")"
   ]
  },
  {
   "cell_type": "code",
   "execution_count": 72,
   "metadata": {},
   "outputs": [],
   "source": [
    "doors = {\"a\":0, \"b\":1, \"c\":2}\n",
    "swap = False\n",
    "hands = np.random.random_sample((numOfHands,3))\n",
    "max_of_hands = (np.amax(hands, axis=1))\n",
    "max_of_hands = np.array([max_of_hands]).transpose()\n",
    "win_hands = sum(hands == max_of_hands)"
   ]
  },
  {
   "cell_type": "code",
   "execution_count": 73,
   "metadata": {},
   "outputs": [
    {
     "name": "stdout",
     "output_type": "stream",
     "text": [
      "\n",
      "There are three doors.  Doors A, B, and C.  Behind one of the doors is a prize.\n",
      "The other two have nothing behind them.  We'll play your same option for every game.\n",
      "\n",
      "Would you like to have Door A, B or C? a\n",
      "\n",
      "\n",
      "Great!  Door A it is.\n",
      "\n",
      "\n"
     ]
    }
   ],
   "source": [
    "print (\"\\nThere are three doors.  Doors A, B, and C.  Behind one of the doors is a prize.\")\n",
    "print (\"The other two have nothing behind them.  We'll play your same option for every game.\\n\")\n",
    "first_door = input(\"Would you like to have Door A, B or C? \")\n",
    "print (\"\\n\")\n",
    "try:\n",
    "    first_door = first_door.lower()\n",
    "except:\n",
    "    print (\"That's not A, B, or C...  We'll give you B\")\n",
    "    first_door = \"b\"\n",
    "if first_door in doors:\n",
    "    print (\"Great!  Door\", first_door.upper(), \"it is.\")\n",
    "else:\n",
    "    print (\"That's not A, B, or C...  We'll give you A\")\n",
    "    first_door = \"a\"\n",
    "first_win = win_hands[doors[first_door]]\n",
    "alternate_win = (sum(win_hands)-first_win)\n",
    "print(\"\\n\")"
   ]
  },
  {
   "cell_type": "code",
   "execution_count": 74,
   "metadata": {},
   "outputs": [
    {
     "name": "stdout",
     "output_type": "stream",
     "text": [
      "\n",
      "I've removed the other door without a prize.\n",
      "Would you like to switch your door?  Enter Yes or No.  y\n",
      "\n",
      "\n"
     ]
    }
   ],
   "source": [
    "print (\"\\nI've removed the other door without a prize.\")\n",
    "swap = input(\"Would you like to switch your door?  Enter Yes or No.  \")\n",
    "swap = \"y\" in swap.lower()\n",
    "print(\"\\n\")"
   ]
  },
  {
   "cell_type": "code",
   "execution_count": 75,
   "metadata": {},
   "outputs": [
    {
     "name": "stdout",
     "output_type": "stream",
     "text": [
      "\n",
      "Good choice... You won  662 times.\n",
      "You would have won  338 times.\n"
     ]
    }
   ],
   "source": [
    "if swap:\n",
    "    print(\"\\nGood choice... You won \", alternate_win, \"times.\")\n",
    "    print(\"You would have won \", first_win,\"times.\")\n",
    "else:\n",
    "    print(\"You won\", first_win, \"times.  You would have won\", \n",
    "          alternate_win, \"times if you had switched doors\")    "
   ]
  },
  {
   "cell_type": "code",
   "execution_count": null,
   "metadata": {},
   "outputs": [],
   "source": []
  }
 ],
 "metadata": {
  "kernelspec": {
   "display_name": "Python 3",
   "language": "python",
   "name": "python3"
  },
  "language_info": {
   "codemirror_mode": {
    "name": "ipython",
    "version": 3
   },
   "file_extension": ".py",
   "mimetype": "text/x-python",
   "name": "python",
   "nbconvert_exporter": "python",
   "pygments_lexer": "ipython3",
   "version": "3.6.5"
  }
 },
 "nbformat": 4,
 "nbformat_minor": 2
}
